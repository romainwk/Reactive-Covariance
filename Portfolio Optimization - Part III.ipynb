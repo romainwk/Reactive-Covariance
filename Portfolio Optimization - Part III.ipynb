{
 "cells": [
  {
   "cell_type": "markdown",
   "metadata": {},
   "source": [
    "## Part III - Portfolio Optimization "
   ]
  },
  {
   "cell_type": "code",
   "execution_count": 1,
   "metadata": {},
   "outputs": [
    {
     "data": {
      "text/html": [
       "<div>\n",
       "<style scoped>\n",
       "    .dataframe tbody tr th:only-of-type {\n",
       "        vertical-align: middle;\n",
       "    }\n",
       "\n",
       "    .dataframe tbody tr th {\n",
       "        vertical-align: top;\n",
       "    }\n",
       "\n",
       "    .dataframe thead th {\n",
       "        text-align: right;\n",
       "    }\n",
       "</style>\n",
       "<table border=\"1\" class=\"dataframe\">\n",
       "  <thead>\n",
       "    <tr style=\"text-align: right;\">\n",
       "      <th></th>\n",
       "      <th>Date</th>\n",
       "      <th>STOXX 600</th>\n",
       "      <th>STOXX 50</th>\n",
       "      <th>S&amp;P 500</th>\n",
       "      <th>TOPIX</th>\n",
       "      <th>FTSE</th>\n",
       "      <th>DAX</th>\n",
       "      <th>NIKKEI</th>\n",
       "      <th>NASDAQ</th>\n",
       "    </tr>\n",
       "  </thead>\n",
       "  <tbody>\n",
       "    <tr>\n",
       "      <th>0</th>\n",
       "      <td>1990-01-01</td>\n",
       "      <td>108.16</td>\n",
       "      <td>1098.49</td>\n",
       "      <td>353.40</td>\n",
       "      <td>2881.37</td>\n",
       "      <td>2422.7</td>\n",
       "      <td>1778.119995</td>\n",
       "      <td>38915.87109</td>\n",
       "      <td>454.82</td>\n",
       "    </tr>\n",
       "    <tr>\n",
       "      <th>1</th>\n",
       "      <td>1990-01-02</td>\n",
       "      <td>108.63</td>\n",
       "      <td>1101.34</td>\n",
       "      <td>359.69</td>\n",
       "      <td>2881.37</td>\n",
       "      <td>2434.1</td>\n",
       "      <td>1788.890015</td>\n",
       "      <td>38915.87109</td>\n",
       "      <td>459.33</td>\n",
       "    </tr>\n",
       "    <tr>\n",
       "      <th>2</th>\n",
       "      <td>1990-01-03</td>\n",
       "      <td>110.04</td>\n",
       "      <td>1112.82</td>\n",
       "      <td>358.76</td>\n",
       "      <td>2881.37</td>\n",
       "      <td>2463.7</td>\n",
       "      <td>1867.290039</td>\n",
       "      <td>38915.87109</td>\n",
       "      <td>460.90</td>\n",
       "    </tr>\n",
       "    <tr>\n",
       "      <th>3</th>\n",
       "      <td>1990-01-04</td>\n",
       "      <td>110.02</td>\n",
       "      <td>1113.02</td>\n",
       "      <td>355.67</td>\n",
       "      <td>2867.70</td>\n",
       "      <td>2451.6</td>\n",
       "      <td>1830.920044</td>\n",
       "      <td>38712.87891</td>\n",
       "      <td>459.39</td>\n",
       "    </tr>\n",
       "    <tr>\n",
       "      <th>4</th>\n",
       "      <td>1990-01-05</td>\n",
       "      <td>109.02</td>\n",
       "      <td>1099.52</td>\n",
       "      <td>352.20</td>\n",
       "      <td>2834.61</td>\n",
       "      <td>2444.5</td>\n",
       "      <td>1812.900024</td>\n",
       "      <td>38274.76172</td>\n",
       "      <td>458.22</td>\n",
       "    </tr>\n",
       "  </tbody>\n",
       "</table>\n",
       "</div>"
      ],
      "text/plain": [
       "        Date  STOXX 600  STOXX 50  S&P 500    TOPIX    FTSE          DAX  \\\n",
       "0 1990-01-01     108.16   1098.49   353.40  2881.37  2422.7  1778.119995   \n",
       "1 1990-01-02     108.63   1101.34   359.69  2881.37  2434.1  1788.890015   \n",
       "2 1990-01-03     110.04   1112.82   358.76  2881.37  2463.7  1867.290039   \n",
       "3 1990-01-04     110.02   1113.02   355.67  2867.70  2451.6  1830.920044   \n",
       "4 1990-01-05     109.02   1099.52   352.20  2834.61  2444.5  1812.900024   \n",
       "\n",
       "        NIKKEI  NASDAQ  \n",
       "0  38915.87109  454.82  \n",
       "1  38915.87109  459.33  \n",
       "2  38915.87109  460.90  \n",
       "3  38712.87891  459.39  \n",
       "4  38274.76172  458.22  "
      ]
     },
     "execution_count": 1,
     "metadata": {},
     "output_type": "execute_result"
    }
   ],
   "source": [
    "# Import relevant libraries\n",
    "\n",
    "import matplotlib.pyplot as plt\n",
    "import pandas as pd\n",
    "import os\n",
    "import scipy as sp\n",
    "import numpy as np \n",
    "import math\n",
    "from scipy.optimize import LinearConstraint\n",
    "from scipy.optimize import Bounds\n",
    "\n",
    "# importer l'Excel de prix \n",
    "\n",
    "index_df = pd.read_excel('D:\\ENSAE\\S1\\OMI307_Machine Learning en Python\\Projet\\Reactive-Covariance\\Data\\Indices.xls') \n",
    "index_df.head()"
   ]
  },
  {
   "cell_type": "markdown",
   "metadata": {},
   "source": [
    "### 3.1 - Standard Approach - Mean Variance Optimization\n",
    "The modern portfolio theory, introduced by H. Markowitz in 1952, states that the optimal allocation between expected return and expected risk is managed through diversification. Such optimal portfolio are achieved by solving the following optimization program:\n",
    "\n",
    "$$\n",
    "    \\begin{cases}\n",
    "        \\max\\limits_{w} w'\\mu - \\dfrac{\\lambda}{2}w'\\Omega w\n",
    "        \\\\\n",
    "        1'w=1\n",
    "    \\end{cases}\n",
    "$$\n",
    "\n",
    "where $\\mu$ correspond to the expected returns of the assets, $\\Omega$ the expected variance covariance matrix of asset returns and $\\lambda \\in \\mathbb{R}^{+}$ the investors risk aversion. No sign restriction on the weights yield to an explicit solution given by:\n",
    "\n",
    "$$\n",
    "    w = \\frac{1}{\\lambda}\\Omega^{-1}\\mu\n",
    "$$\n",
    "\n",
    "while restricting the weights for long only portfolio imposed to solve this program numerically.\n",
    "\n",
    "However, in practice one observes the __Markowitz paradox__ defining highly concentrated portfolio, more focus on the asset expected returns. Thus not efficiently allocating the risk. One solution to this paradox consist of considering risk based approach (introduced in the next section)."
   ]
  },
  {
   "cell_type": "code",
   "execution_count": 12,
   "metadata": {},
   "outputs": [],
   "source": [
    "portfolio_return     = []\n",
    "portfolio_volatility = []\n",
    "efficient_return     = []\n",
    "efficient_volatility = []\n",
    "stock_weights        = []\n",
    "\n",
    "# Combinaisons de portefeuilles \n",
    "number_assets  = 8\n",
    "num_portfolios = 50 # Nombre de simulation de protefeuille \n",
    "\n",
    "index_dictionnary = {\"0\" : \"STOXX 600\", \"1\":\"STOXX 50\",\"2\" : \"S&P 500\",\"3\" : \"TOPIX\", \"4\": \"FTSE\", \"5\":\"DAX\", \"6\":\"NIKKEI\",\"7\":\"NASDAQ\"}\n",
    "index_returns     = []"
   ]
  },
  {
   "cell_type": "code",
   "execution_count": 4,
   "metadata": {},
   "outputs": [
    {
     "name": "stdout",
     "output_type": "stream",
     "text": [
      "[0.0002304372539344647, 0.00023872813518222905, 0.00033865221588221255, 1.4147980586776077e-05, 0.0002103253251801626, 0.0003558592689741897, 3.396573947477475e-05, 0.00048147437472486357]\n"
     ]
    }
   ],
   "source": [
    "def computeExpectedReturns(index_dictionnary):\n",
    "    expected_return = []\n",
    "    for key in index_dictionnary:\n",
    "        Xi = index_dictionnary.get(key)\n",
    "        n = len(index_df[Xi])\n",
    "        expected_return.append(((index_df[Xi]-index_df[Xi].shift(1)) /index_df[Xi].shift(1)).dropna().mean()) # moyenne des daily returns annualizés \n",
    "    return expected_return \n",
    "        \n",
    "index_return = computeExpectedReturns(index_dictionnary)\n",
    "#print(index_return)"
   ]
  },
  {
   "cell_type": "code",
   "execution_count": 5,
   "metadata": {
    "scrolled": true
   },
   "outputs": [],
   "source": [
    "def grossReturn(Xi):\n",
    "    return (index_df[Xi]/index_df[Xi].shift(1)).dropna()  # dropna() allows to remove the \"NaN\" from the list\n",
    "\n",
    "# Retourne la matrice de covariance\n",
    "\n",
    "def covarianceMatrix(index_dictionnary):\n",
    "    n = len(index_dictionnary) # Regarde la taille du dictionnaire\n",
    "    covariance = np.zeros((n,n)) # Création d'une matrice vide de taille n*n pour stocker les valeurs de covariance\n",
    "\n",
    "    for i in range(0,n):\n",
    "        for j in range(0,n):\n",
    "            Xi = index_dictionnary.get(str(i))  # Recupere le nom de la colonne Xi\n",
    "            Xj = index_dictionnary.get(str(j))  # Recupere le nom de la colonne Xj\n",
    "            covariance[i][j] = np.cov(grossReturn(Xi),grossReturn(Xj))[0][1] ## Calcule la covariance\n",
    "    return covariance\n",
    "\n"
   ]
  },
  {
   "cell_type": "code",
   "execution_count": 6,
   "metadata": {},
   "outputs": [],
   "source": [
    "def Markowitz(expRet, expCov, riskAversion):\n",
    "    \n",
    "    ## Objective function\n",
    "    def objective(w):\n",
    "        return -(np.dot(w, expRet)-0.5*riskAversion*np.dot(w, np.dot(expCov,w)))\n",
    "    \n",
    "    ## Optimization constraints\n",
    "    constraints = ({'type': 'eq', 'fun': lambda x: np.sum(x) - 1})\n",
    "    bounds      = [(0.0,1.0) for asset in range(len(expRet))]\n",
    "    \n",
    "    ## Optimization procedure\n",
    "    spMark      =  sp.optimize.minimize(objective, len(expRet)*[1./len(expRet),],\n",
    "                        method='SLSQP', bounds=bounds, constraints=constraints)\n",
    "    ## Output\n",
    "    return spMark"
   ]
  },
  {
   "cell_type": "code",
   "execution_count": 15,
   "metadata": {},
   "outputs": [],
   "source": [
    "## Génération de portefeuilles aléatoires\n",
    "\n",
    "# Expected return is estimated from 1Y return for each asset \n",
    "\n",
    "for portfolio_i in range(num_portfolios):\n",
    "    \n",
    "    # on randomize le vecteur d'allocation\n",
    "    allocation = np.random.random(number_assets) \n",
    "    \n",
    "    # Initialisation du vecteur des prix\n",
    "    price = np.zeros(number_assets)\n",
    "    \n",
    "    # Les poids du portefeuille sont calcule \"aujourd'hui\": on affecte au vecteur \"price\" la dernière valeur du stock\n",
    "    for i in range(0,number_assets): \n",
    "        Xi = index_dictionnary.get(str(i))\n",
    "        price[i] = index_df[Xi].tail(1)\n",
    "    \n",
    "    wa = np.dot(np.diag(allocation),price)  # On calcule le vecteur de poids avec diag(allocation) * vect(prix)\n",
    "    wa /= np.sum(wa) # et on normalize le vecteur de poids\n",
    "    \n",
    "    # On calcule l'expected return du portefeuille de poids aléatoires \n",
    "    returns = np.dot(wa,computeExpectedReturns(index_dictionnary))*250*100\n",
    "    portfolio_return.append(returns)\n",
    "    \n",
    "    # On calcule la volatilité du portefeuille\n",
    "    volatility = np.sqrt(np.dot(wa.T,np.dot(covarianceMatrix(index_dictionnary),wa)))*np.sqrt(250)*100  ## Ne pas oublier d'annualiser la vol !!!\n",
    "    portfolio_volatility.append(volatility)\n",
    "    \n",
    "returns    = []\n",
    "volatility = []\n",
    "for i in range(15):\n",
    "    optMar  = Markowitz(np.multiply(computeExpectedReturns(index_dictionnary),252), np.multiply(covarianceMatrix(index_dictionnary),252),i/4)\n",
    "    weff    = optMar.x\n",
    "    \n",
    "    returns = np.dot(weff,computeExpectedReturns(index_dictionnary))*250*100\n",
    "    efficient_return.append(returns)\n",
    "    \n",
    "    volatility = np.sqrt(np.dot(weff.T,np.dot(covarianceMatrix(index_dictionnary),weff)))*np.sqrt(250)*100  ## Ne pas oublier d'annualiser la vol !!!\n",
    "    efficient_volatility.append(volatility)\n"
   ]
  },
  {
   "cell_type": "code",
   "execution_count": 16,
   "metadata": {
    "scrolled": false
   },
   "outputs": [
    {
     "data": {
      "image/png": "[encoded data removed]",
      "text/plain": [
       "<Figure size 720x576 with 1 Axes>"
      ]
     },
     "metadata": {},
     "output_type": "display_data"
    }
   ],
   "source": [
    "portfolio = {\"Returns\": portfolio_return, \"Volatility\" : portfolio_volatility} # Création d'un dictionnaire pour stocker les valeurs\n",
    "result_df = pd.DataFrame(portfolio) # conversion en dataframe\n",
    "\n",
    "efficient    = {\"Returns\": efficient_return, \"Volatility\" : efficient_volatility} # Création d'un dictionnaire pour stocker les valeurs\n",
    "efficient_df = pd.DataFrame(efficient) # conversion en dataframe\n",
    "\n",
    "#print(result_df)\n",
    "plt.style.use('seaborn')\n",
    "ax1 = result_df.plot.scatter(x='Volatility', y='Returns', figsize=(10, 8), grid=True,c='Blue')\n",
    "efficient_df.plot.scatter(x='Volatility', y='Returns', figsize=(10, 8), grid=True,c='Red', ax=ax1)\n",
    "plt.xlabel('Volatility (Std. Deviation)')\n",
    "plt.ylabel('Expected Returns')\n",
    "plt.title('Efficient Frontier')\n",
    "plt.show()"
   ]
  },
  {
   "cell_type": "markdown",
   "metadata": {},
   "source": [
    "### 3.2 - Risk Based Approach\n",
    "In this section we implement an unified framework for risk based portfolio allocation (see J-C. Richard and T. Roncalli, _Smart Beta: Managing Diversification of Minimum Variance Portfolios_, 2015). Lets consider the following optimization program:\n",
    "\n",
    "$$\n",
    "    \\begin{cases}\n",
    "        \\min\\limits_{w} \\frac{1}{2}w'\\Omega w\n",
    "        \\\\\n",
    "        \\mathcal{D}(w;\\gamma)\\geq c_{1}\n",
    "        \\\\\n",
    "        \\mathcal{B}(w;\\delta) = c_{2}\n",
    "        \\\\\n",
    "        x \\geq 0\n",
    "    \\end{cases}\n",
    "$$\n",
    "\n",
    "where \n",
    "\\begin{align*}\n",
    "    \\mathcal{D}(w;\\gamma) &= \\gamma\\sum\\limits_{i=1}^{N}\\log x_{i} - (1-\\gamma)\\sum\\limits_{i=1}^{N}x_{i}^{2}\n",
    "    \\\\\n",
    "    \\mathcal{B}(w;\\delta) &= \\delta\\sum\\limits_{i}^{N}x_{i}+(1-\\delta)\\sum\\limits_{i=1}^{N}x_{i}\\sigma_{i}\n",
    "\\end{align*}\n",
    "and $\\gamma \\in [0,1]$ controls the weights and risk diversification and $\\delta \\in [0,1]$ controls the budget allocation. One can omit (without losses) the constant $(c_{1},c_{2})$ by the following restricted form of the optimization programs:\n",
    "\n",
    "$$\n",
    "    \\begin{cases}\n",
    "        \\min\\limits_{w} \\frac{1}{2}w'\\Omega w - \\lambda \\mathcal{D}(w;\\gamma) + (\\lambda-1)\\mathcal{B}(w;\\delta) \n",
    "        \\\\\n",
    "        w \\geq 0\n",
    "    \\end{cases}\n",
    "$$\n",
    "\n",
    "with $\\lambda \\geq 0$ controlling the diversification impact. This optimization program is wide enought to include the risk parity portfolio (ERC), most diversified portfolio (MDP) and the global minimum variance portfolio (GMV) :\n",
    "\n",
    "|        | $\\lambda$ | $\\gamma$ | $\\delta$ |\n",
    "|--------|-----------|----------|----------|\n",
    "|   ERC  |     1     |     1    |     0    |\n",
    "|   MDP  |     0     |          |     0    |\n",
    "|   GMV  |     0     |          |     1    |\n",
    "\n",
    "The previous Lagrangian can easily estimated using a Cyclical Coordinate Descent algorihtm which is higly efficient for high dimensionnal problems compare to classic Newton approach (see T. Griveau-Billion , J-C. Richard and T. Roncalli, _A Fast Algorithm for Computing High-dimensional Risk Parity Portfolios_, 2013).\n",
    "\n",
    "__Individual optimization programs__:\n",
    "\n",
    "|GMV|ERC|MDP|\n",
    "|:-:|:-:|:-:|\n",
    "|$\\begin{cases} \\min\\limits_{w} \\dfrac{1}{2}w'\\Omega w \\\\ 1'w = 1 \\\\ w \\geq 0 \\end{cases}$ |$\\begin{cases} \\min\\limits_{w} \\dfrac{1}{2}w'\\Omega w \\\\ \\sum\\limits_{i=1}^{N}\\log w_{i} \\geq c \\\\ 1'w = 1 \\\\ w \\geq 0 \\end{cases}$|$\\begin{cases} \\min\\limits_{w} \\dfrac{w'\\sigma}{\\sqrt{w'\\Omega w}} \\\\ 1'w = 1 \\\\ w \\geq 0 \\\\ \\sigma = \\lbrace \\sigma_{i} \\rbrace_{i \\in \\mathbb{N}} \\end{cases}$|\n"
   ]
  },
  {
   "cell_type": "code",
   "execution_count": 20,
   "metadata": {},
   "outputs": [],
   "source": [
    "# Set the achievable portfolio\n",
    "PortType  = {'MDP':[0.0, 0.0, 0.0], 'ERC':[1.0, 1.0, 0.0], 'GMV':[0.0, 0.0, 1.0]}\n",
    "# Optimization options (tolerance criterion, maximum iteration)\n",
    "optoption = [10^-15, 2000]"
   ]
  },
  {
   "cell_type": "code",
   "execution_count": 18,
   "metadata": {},
   "outputs": [],
   "source": [
    "def RiskBasedPortfolio(omega, ptftype, optoption):    \n",
    "    \n",
    "    ## Optimization option\n",
    "    tol     = optoption[0] # Convergence criterion\n",
    "    maxiter = optoption[1] # Number of maximum iteration\n",
    "    \n",
    "    ## Portfolio type\n",
    "    lambd = ptftype[0] # Allocation between Diversification and Budget constraints.\n",
    "    gamma = ptftype[1] # Allocation between risk parity and maximum diversification.\n",
    "    delta = ptftype[2] # Allocation between minimum variance and the most diversified portfolio.\n",
    "\n",
    "    ## Dimension\n",
    "    nvar = len(omega[0])\n",
    "\n",
    "    ## Output pre-allocation\n",
    "    x  = [[0 for col in range(nvar)] for row in range(maxiter+1)] # Solution at the k-th iteration.\n",
    "    xu = [0 for col in range(nvar)]                               # Update solution\n",
    "    k  = 0                                                        # k-th Iteration\n",
    "    \n",
    "    ## Initialization\n",
    "    # Set an equal weighted portfolio at the 1-st iteration\n",
    "    xk   = [(1/nvar) for col in range(nvar)]\n",
    "    x[0] = xk\n",
    "\n",
    "    # Compute the total portfolio risk\n",
    "    omegaxk = np.matmul(omega,xk)\n",
    "\n",
    "    # Set the convergence condition to false\n",
    "    check = False\n",
    "    \n",
    "    ## Iterative process\n",
    "    while ((check==False) and (k<maxiter)):\n",
    "        # Loop over the weights\n",
    "        for i in range(nvar):\n",
    "            # Update the i-th weights\n",
    "            a     = omega[i][i] + 2.0*lambd*(1-gamma)\n",
    "            b     = omegaxk[i] - xk[i]*omega[i][i]\\\n",
    "                  - delta*(1.0-lambd)\\\n",
    "                  - (1.0-lambd)*(1.0-delta)*math.sqrt(omega[i][i])\n",
    "            c     = (-1.0)*lambd*gamma\n",
    "            disc  = (b**2)-4.0*a*c\n",
    "            xu[i] = float(-b+math.sqrt(disc))/float(2.0*a)\n",
    "\n",
    "            # Update the portfolio volatility\n",
    "            omegaxk = np.add(np.subtract(omegaxk,np.multiply(omega[:,i],xk[i])),np.multiply(omega[:,i],xu[i]))\n",
    "  \n",
    "        # Check the convergence\n",
    "        check = np.sum(np.absolute(np.subtract(xu,xk)))<tol\n",
    "        # Increment the iteration control\n",
    "        k = k + 1\n",
    "    \n",
    "        # Weights at the k-th iteration\n",
    "        x[k] = xu\n",
    "    \n",
    "        # Reset the algorithm\n",
    "        xk   = xu[:]\n",
    "\n",
    "    ## Final step\n",
    "    # Normalize the weights to satisfy the budgetary constraint\n",
    "    xsol = np.multiply(xk,float(1.0/float(np.sum(xk))))\n",
    "    \n",
    "    # Return the optimal allocation\n",
    "    return xsol"
   ]
  },
  {
   "cell_type": "markdown",
   "metadata": {},
   "source": [
    "__Weights allocation:__\n",
    "\n",
    "The figure below represents the weights of the different allocation methods. As introduced in the previous section one can see that the Markowitz portfolio (MAR) is the most concentrated while risk based allocation method offers a better weights diversification. The equal risk contribution present the best weights diversication since it requires that each asset contribute equally to the global portfolio risk."
   ]
  },
  {
   "cell_type": "code",
   "execution_count": 21,
   "metadata": {},
   "outputs": [
    {
     "data": {
      "text/plain": [
       "Text(0.5,1,'Weights allocation')"
      ]
     },
     "execution_count": 21,
     "metadata": {},
     "output_type": "execute_result"
    },
    {
     "data": {
      "image/png": "[encoded data removed]",
      "text/plain": [
       "<Figure size 576x396 with 1 Axes>"
      ]
     },
     "metadata": {},
     "output_type": "display_data"
    }
   ],
   "source": [
    "omega = covarianceMatrix(index_dictionnary)\n",
    "\n",
    "werc = RiskBasedPortfolio(omega, PortType['ERC'], optoption)\n",
    "wmdp = RiskBasedPortfolio(omega, PortType['MDP'], optoption)\n",
    "wgmv = RiskBasedPortfolio(omega, PortType['GMV'], optoption)\n",
    "wmar = Markowitz(np.multiply(computeExpectedReturns(index_dictionnary),252), np.multiply(covarianceMatrix(index_dictionnary),252),2)\n",
    "\n",
    "df = pd.DataFrame({'ERC': 100*werc, 'MDP': 100*wmdp, 'GMV': 100*wgmv, 'MAR':100*wmar.x}, index=range(len(omega[0])))\n",
    "ax = df.plot.bar(rot=0)\n",
    "plt.title(\"Weights allocation\")"
   ]
  },
  {
   "cell_type": "code",
   "execution_count": null,
   "metadata": {},
   "outputs": [],
   "source": []
  }
 ],
 "metadata": {
  "kernelspec": {
   "display_name": "Python 3",
   "language": "python",
   "name": "python3"
  },
  "language_info": {
   "codemirror_mode": {
    "name": "ipython",
    "version": 3
   },
   "file_extension": ".py",
   "mimetype": "text/x-python",
   "name": "python",
   "nbconvert_exporter": "python",
   "pygments_lexer": "ipython3",
   "version": "3.6.5"
  }
 },
 "nbformat": 4,
 "nbformat_minor": 2
}
